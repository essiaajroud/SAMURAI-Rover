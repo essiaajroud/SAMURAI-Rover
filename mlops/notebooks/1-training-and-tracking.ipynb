{
 "cells": [
  {
   "cell_type": "code",
   "execution_count": null,
   "id": "dcf0a48d",
   "metadata": {
    "vscode": {
     "languageId": "plaintext"
    }
   },
   "outputs": [],
   "source": [
    "import mlflow\n",
    "from ultralytics import YOLO\n",
    "import os"
   ]
  },
  {
   "cell_type": "code",
   "execution_count": null,
   "id": "458ce498",
   "metadata": {
    "vscode": {
     "languageId": "plaintext"
    }
   },
   "outputs": [],
   "source": [
    "MLFLOW_TRACKING_URI = \"file://\" + os.path.abspath(\"./mlruns\") \n",
    "mlflow.set_tracking_uri(MLFLOW_TRACKING_URI)"
   ]
  },
  {
   "cell_type": "code",
   "execution_count": null,
   "id": "99be96ee",
   "metadata": {
    "vscode": {
     "languageId": "plaintext"
    }
   },
   "outputs": [],
   "source": [
    "EXPERIMENT_NAME = \"YOLOv11_Military_Detection\"\n",
    "mlflow.set_experiment(EXPERIMENT_NAME)"
   ]
  },
  {
   "cell_type": "code",
   "execution_count": null,
   "id": "39a1b27e",
   "metadata": {
    "vscode": {
     "languageId": "plaintext"
    }
   },
   "outputs": [],
   "source": [
    "# --- Entraînement ---\n",
    "# Démarre une session d'enregistrement MLflow\n",
    "with mlflow.start_run() as run:\n",
    "    print(\"MLflow Run ID:\", run.info.run_id)\n",
    "    mlflow.log_param(\"model_type\", \"YOLOv11m\")\n",
    "    mlflow.log_param(\"dataset\", \"custom_military_v1\")\n",
    "    \n",
    "    # Charger un modèle pré-entraîné\n",
    "    model_path = os.path.abspath('../server/models/best.onnx')\n",
    "    model = YOLO(model_path)\n",
    "\n",
    "    # Entraîner le modèle (exemple avec des paramètres)\n",
    "    # Assurez-vous d'avoir un fichier data.yaml pour votre dataset\n",
    "    results = model.train(data='../../dataset/samurai/data.yaml', epochs=50, imgsz=640, batch=8)\n",
    "    \n",
    "    # Enregistrer les hyperparamètres\n",
    "    mlflow.log_param(\"epochs\", 50)\n",
    "    mlflow.log_param(\"imgsz\", 640)\n",
    "    mlflow.log_param(\"batch_size\", 8)\n",
    "    # Enregistrer les métriques de performance finales\n",
    "    # results.metrics contient les métriques comme mAP50-95\n",
    "    final_map = results.metrics['metrics/mAP50-95(B)']\n",
    "    mlflow.log_metric(\"mAP50-95\", final_map)\n",
    "    \n",
    "    # Enregistrer le modèle entraîné comme un \"artefact\"\n",
    "    # MLflow va sauvegarder le dossier 'runs/detect/train'\n",
    "    model_path = results.save_dir\n",
    "    mlflow.log_artifacts(model_path, artifact_path=\"yolo_model\")\n",
    "    \n",
    "    print(f\"Modèle entraîné et sauvegardé. mAP: {final_map}\")\n",
    "    print(f\"Pour voir les résultats, lancez 'mlflow ui' dans votre terminal.\")"
   ]
  }
 ],
 "metadata": {
  "language_info": {
   "name": "python"
  }
 },
 "nbformat": 4,
 "nbformat_minor": 5
}
